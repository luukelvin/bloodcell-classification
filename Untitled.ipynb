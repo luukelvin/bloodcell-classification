{
 "cells": [
  {
   "cell_type": "code",
   "execution_count": 13,
   "id": "2221ba5a",
   "metadata": {},
   "outputs": [
    {
     "name": "stdout",
     "output_type": "stream",
     "text": [
      "All images have been successfully resized and saved to the respective subdirectories under images/TRAIN_DOWNSIZED.\n"
     ]
    }
   ],
   "source": [
    "from PIL import Image\n",
    "import os\n",
    "\n",
    "# Define the directory containing the subdirectories with images\n",
    "input_directory = \"data/images/TRAIN\"\n",
    "\n",
    "# Define the directory to save the resized images\n",
    "output_directory = \"data/images/TRAIN_DOWNSIZED\"\n",
    "\n",
    "# Define the subdirectories\n",
    "subdirectories = [\"EOSINOPHIL\", \"LYMPHOCYTE\", \"MONOCYTE\", \"NEUTROPHIL\"]\n",
    "\n",
    "# Define the size to resize the images to\n",
    "size = (160, 120)  # half of 240x320\n",
    "\n",
    "# Iterate over each subdirectory\n",
    "for subdirectory in subdirectories:\n",
    "    # Create the output subdirectory if it does not exist\n",
    "    os.makedirs(os.path.join(output_directory, f\"{subdirectory}\"), exist_ok=True)\n",
    "\n",
    "    # Iterate over each file in the subdirectory\n",
    "    for filename in os.listdir(os.path.join(input_directory, subdirectory)):\n",
    "        # If the file is an image\n",
    "        if filename.endswith(\".jpeg\") or filename.endswith(\".png\"):\n",
    "            # Define the path to the image\n",
    "            input_image_path = os.path.join(input_directory, subdirectory, filename)\n",
    "            # Define the path to save the resized image\n",
    "            output_image_path = os.path.join(output_directory, f\"{subdirectory}\", filename)\n",
    "            # Open the original image\n",
    "            original_image = Image.open(input_image_path)\n",
    "            # Resize the image\n",
    "            resized_image = original_image.resize(size, Image.BICUBIC)\n",
    "            # Save the resized image\n",
    "            resized_image.save(output_image_path)\n",
    "\n",
    "print(\"All images have been successfully resized and saved to the respective subdirectories under images/TRAIN_DOWNSIZED.\")\n"
   ]
  },
  {
   "cell_type": "code",
   "execution_count": 1,
   "id": "cd1a9b00",
   "metadata": {},
   "outputs": [
    {
     "name": "stdout",
     "output_type": "stream",
     "text": [
      "The directory data/images/TRAIN_DOWNSIZED has been successfully deleted.\n"
     ]
    }
   ],
   "source": [
    "import shutil\n",
    "\n",
    "# Define the directory to delete\n",
    "directory = \"data/images/TRAIN_DOWNSIZED\"\n",
    "\n",
    "# Delete the directory\n",
    "shutil.rmtree(directory)\n",
    "\n",
    "print(f\"The directory {directory} has been successfully deleted.\")"
   ]
  },
  {
   "cell_type": "code",
   "execution_count": null,
   "id": "ba0a7b86",
   "metadata": {},
   "outputs": [],
   "source": []
  }
 ],
 "metadata": {
  "kernelspec": {
   "display_name": "Python 3 (ipykernel)",
   "language": "python",
   "name": "python3"
  },
  "language_info": {
   "codemirror_mode": {
    "name": "ipython",
    "version": 3
   },
   "file_extension": ".py",
   "mimetype": "text/x-python",
   "name": "python",
   "nbconvert_exporter": "python",
   "pygments_lexer": "ipython3",
   "version": "3.11.3"
  }
 },
 "nbformat": 4,
 "nbformat_minor": 5
}
